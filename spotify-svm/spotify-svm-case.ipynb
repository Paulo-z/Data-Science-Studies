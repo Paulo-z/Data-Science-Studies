{
 "cells": [
  {
   "cell_type": "markdown",
   "id": "72be1c2f",
   "metadata": {},
   "source": [
    "# spotify análise exploratória\n",
    "\n",
    "neste projeto foi usado um dataset com características de musicas do spotify e indicando se um usuario especifico gostou ou não.\n",
    "\n",
    "## features usadas no conjunto de dados:\n",
    "\n",
    "- **id**: spotify id para musica\n",
    "- **acousticness**: uma medida de confiança, de 0.0 a 1.0, indicando se a musica é acústica.\n",
    "- **danceability**: indica se uma musica é dançavel, em uma escala de 0.0 a 1.0, baseado em algumas características sobre a. musica\n",
    "- **duration_ms**: duração da musica em milissegundos.\n",
    "- **energy**: uma medida de 0.0 a 1.0, indicando o quão energica a musica é.\n",
    "- **instrumentalness**: em uma escala de 0.0 a 1.0, indica a probabilidade da musica não conter cantor.\n",
    "- **key**: indica em qual tonalidade a musica está.\n",
    "- **liveness**: detecta a presença de plateia no momento da gravação.\n",
    "- **loudness**: apresenta o volume geral da musica em decibéis.\n",
    "- **mode**: indica a modalidade maior ou menor.\n",
    "- **speechiness**: indica a presença de palavras faladas na musica.\n",
    "- **tempo**: indica em geral o mpb da musica.\n",
    "- **time_signature**: medida de bpm por compasso.\n",
    "- **valence**: indica o quão positiva a musica é.\n",
    "- **target**: indica se o usuario gostou ou não da musica.\n",
    "- **song_title**: titulo da musica.\n",
    "- **artist**: cantor da musica.\n"
   ]
  },
  {
   "cell_type": "code",
   "execution_count": 1,
   "id": "ed5c71df",
   "metadata": {},
   "outputs": [],
   "source": [
    "#importando as libs\n",
    "import pandas as pd\n",
    "import matplotlib.pyplot as plt\n",
    "import numpy as np\n",
    "import seaborn as sns\n",
    "import numpy as np"
   ]
  },
  {
   "cell_type": "code",
   "execution_count": 2,
   "id": "6434f3d2",
   "metadata": {},
   "outputs": [],
   "source": [
    "df = pd.read_csv('data.csv', sep = ',')"
   ]
  },
  {
   "cell_type": "code",
   "execution_count": 3,
   "id": "3b73acd4",
   "metadata": {},
   "outputs": [
    {
     "data": {
      "text/html": [
       "<div>\n",
       "<style scoped>\n",
       "    .dataframe tbody tr th:only-of-type {\n",
       "        vertical-align: middle;\n",
       "    }\n",
       "\n",
       "    .dataframe tbody tr th {\n",
       "        vertical-align: top;\n",
       "    }\n",
       "\n",
       "    .dataframe thead th {\n",
       "        text-align: right;\n",
       "    }\n",
       "</style>\n",
       "<table border=\"1\" class=\"dataframe\">\n",
       "  <thead>\n",
       "    <tr style=\"text-align: right;\">\n",
       "      <th></th>\n",
       "      <th>id</th>\n",
       "      <th>acousticness</th>\n",
       "      <th>danceability</th>\n",
       "      <th>duration_ms</th>\n",
       "      <th>energy</th>\n",
       "      <th>instrumentalness</th>\n",
       "      <th>key</th>\n",
       "      <th>liveness</th>\n",
       "      <th>loudness</th>\n",
       "      <th>mode</th>\n",
       "      <th>speechiness</th>\n",
       "      <th>tempo</th>\n",
       "      <th>time_signature</th>\n",
       "      <th>valence</th>\n",
       "      <th>target</th>\n",
       "      <th>song_title</th>\n",
       "      <th>artist</th>\n",
       "    </tr>\n",
       "  </thead>\n",
       "  <tbody>\n",
       "    <tr>\n",
       "      <th>0</th>\n",
       "      <td>0</td>\n",
       "      <td>0.0102</td>\n",
       "      <td>0.833</td>\n",
       "      <td>204600</td>\n",
       "      <td>0.434</td>\n",
       "      <td>0.021900</td>\n",
       "      <td>2</td>\n",
       "      <td>0.1650</td>\n",
       "      <td>-8.795</td>\n",
       "      <td>1</td>\n",
       "      <td>0.4310</td>\n",
       "      <td>150.062</td>\n",
       "      <td>4.0</td>\n",
       "      <td>0.286</td>\n",
       "      <td>1</td>\n",
       "      <td>Mask Off</td>\n",
       "      <td>Future</td>\n",
       "    </tr>\n",
       "    <tr>\n",
       "      <th>1</th>\n",
       "      <td>1</td>\n",
       "      <td>0.1990</td>\n",
       "      <td>0.743</td>\n",
       "      <td>326933</td>\n",
       "      <td>0.359</td>\n",
       "      <td>0.006110</td>\n",
       "      <td>1</td>\n",
       "      <td>0.1370</td>\n",
       "      <td>-10.401</td>\n",
       "      <td>1</td>\n",
       "      <td>0.0794</td>\n",
       "      <td>160.083</td>\n",
       "      <td>4.0</td>\n",
       "      <td>0.588</td>\n",
       "      <td>1</td>\n",
       "      <td>Redbone</td>\n",
       "      <td>Childish Gambino</td>\n",
       "    </tr>\n",
       "    <tr>\n",
       "      <th>2</th>\n",
       "      <td>2</td>\n",
       "      <td>0.0344</td>\n",
       "      <td>0.838</td>\n",
       "      <td>185707</td>\n",
       "      <td>0.412</td>\n",
       "      <td>0.000234</td>\n",
       "      <td>2</td>\n",
       "      <td>0.1590</td>\n",
       "      <td>-7.148</td>\n",
       "      <td>1</td>\n",
       "      <td>0.2890</td>\n",
       "      <td>75.044</td>\n",
       "      <td>4.0</td>\n",
       "      <td>0.173</td>\n",
       "      <td>1</td>\n",
       "      <td>Xanny Family</td>\n",
       "      <td>Future</td>\n",
       "    </tr>\n",
       "    <tr>\n",
       "      <th>3</th>\n",
       "      <td>3</td>\n",
       "      <td>0.6040</td>\n",
       "      <td>0.494</td>\n",
       "      <td>199413</td>\n",
       "      <td>0.338</td>\n",
       "      <td>0.510000</td>\n",
       "      <td>5</td>\n",
       "      <td>0.0922</td>\n",
       "      <td>-15.236</td>\n",
       "      <td>1</td>\n",
       "      <td>0.0261</td>\n",
       "      <td>86.468</td>\n",
       "      <td>4.0</td>\n",
       "      <td>0.230</td>\n",
       "      <td>1</td>\n",
       "      <td>Master Of None</td>\n",
       "      <td>Beach House</td>\n",
       "    </tr>\n",
       "    <tr>\n",
       "      <th>4</th>\n",
       "      <td>4</td>\n",
       "      <td>0.1800</td>\n",
       "      <td>0.678</td>\n",
       "      <td>392893</td>\n",
       "      <td>0.561</td>\n",
       "      <td>0.512000</td>\n",
       "      <td>5</td>\n",
       "      <td>0.4390</td>\n",
       "      <td>-11.648</td>\n",
       "      <td>0</td>\n",
       "      <td>0.0694</td>\n",
       "      <td>174.004</td>\n",
       "      <td>4.0</td>\n",
       "      <td>0.904</td>\n",
       "      <td>1</td>\n",
       "      <td>Parallel Lines</td>\n",
       "      <td>Junior Boys</td>\n",
       "    </tr>\n",
       "  </tbody>\n",
       "</table>\n",
       "</div>"
      ],
      "text/plain": [
       "   id  acousticness  danceability  duration_ms  energy  instrumentalness  key  \\\n",
       "0   0        0.0102         0.833       204600   0.434          0.021900    2   \n",
       "1   1        0.1990         0.743       326933   0.359          0.006110    1   \n",
       "2   2        0.0344         0.838       185707   0.412          0.000234    2   \n",
       "3   3        0.6040         0.494       199413   0.338          0.510000    5   \n",
       "4   4        0.1800         0.678       392893   0.561          0.512000    5   \n",
       "\n",
       "   liveness  loudness  mode  speechiness    tempo  time_signature  valence  \\\n",
       "0    0.1650    -8.795     1       0.4310  150.062             4.0    0.286   \n",
       "1    0.1370   -10.401     1       0.0794  160.083             4.0    0.588   \n",
       "2    0.1590    -7.148     1       0.2890   75.044             4.0    0.173   \n",
       "3    0.0922   -15.236     1       0.0261   86.468             4.0    0.230   \n",
       "4    0.4390   -11.648     0       0.0694  174.004             4.0    0.904   \n",
       "\n",
       "   target      song_title            artist  \n",
       "0       1        Mask Off            Future  \n",
       "1       1         Redbone  Childish Gambino  \n",
       "2       1    Xanny Family            Future  \n",
       "3       1  Master Of None       Beach House  \n",
       "4       1  Parallel Lines       Junior Boys  "
      ]
     },
     "execution_count": 3,
     "metadata": {},
     "output_type": "execute_result"
    }
   ],
   "source": [
    "df.head()"
   ]
  },
  {
   "cell_type": "code",
   "execution_count": 4,
   "id": "73c2c93e",
   "metadata": {},
   "outputs": [
    {
     "data": {
      "text/plain": [
       "id                  0\n",
       "acousticness        0\n",
       "danceability        0\n",
       "duration_ms         0\n",
       "energy              0\n",
       "instrumentalness    0\n",
       "key                 0\n",
       "liveness            0\n",
       "loudness            0\n",
       "mode                0\n",
       "speechiness         0\n",
       "tempo               0\n",
       "time_signature      0\n",
       "valence             0\n",
       "target              0\n",
       "song_title          0\n",
       "artist              0\n",
       "dtype: int64"
      ]
     },
     "execution_count": 4,
     "metadata": {},
     "output_type": "execute_result"
    }
   ],
   "source": [
    "#chegando se a valores vazios\n",
    "df.isnull().sum()"
   ]
  },
  {
   "cell_type": "code",
   "execution_count": 5,
   "id": "65b0b4df",
   "metadata": {},
   "outputs": [
    {
     "data": {
      "text/html": [
       "<div>\n",
       "<style scoped>\n",
       "    .dataframe tbody tr th:only-of-type {\n",
       "        vertical-align: middle;\n",
       "    }\n",
       "\n",
       "    .dataframe tbody tr th {\n",
       "        vertical-align: top;\n",
       "    }\n",
       "\n",
       "    .dataframe thead th {\n",
       "        text-align: right;\n",
       "    }\n",
       "</style>\n",
       "<table border=\"1\" class=\"dataframe\">\n",
       "  <thead>\n",
       "    <tr style=\"text-align: right;\">\n",
       "      <th></th>\n",
       "      <th>id</th>\n",
       "      <th>acousticness</th>\n",
       "      <th>danceability</th>\n",
       "      <th>duration_ms</th>\n",
       "      <th>energy</th>\n",
       "      <th>instrumentalness</th>\n",
       "      <th>key</th>\n",
       "      <th>liveness</th>\n",
       "      <th>loudness</th>\n",
       "      <th>mode</th>\n",
       "      <th>speechiness</th>\n",
       "      <th>tempo</th>\n",
       "      <th>time_signature</th>\n",
       "      <th>valence</th>\n",
       "      <th>target</th>\n",
       "    </tr>\n",
       "  </thead>\n",
       "  <tbody>\n",
       "    <tr>\n",
       "      <th>count</th>\n",
       "      <td>2017.000000</td>\n",
       "      <td>2017.000000</td>\n",
       "      <td>2017.000000</td>\n",
       "      <td>2.017000e+03</td>\n",
       "      <td>2017.000000</td>\n",
       "      <td>2017.000000</td>\n",
       "      <td>2017.000000</td>\n",
       "      <td>2017.000000</td>\n",
       "      <td>2017.000000</td>\n",
       "      <td>2017.000000</td>\n",
       "      <td>2017.000000</td>\n",
       "      <td>2017.000000</td>\n",
       "      <td>2017.000000</td>\n",
       "      <td>2017.000000</td>\n",
       "      <td>2017.000000</td>\n",
       "    </tr>\n",
       "    <tr>\n",
       "      <th>mean</th>\n",
       "      <td>1008.000000</td>\n",
       "      <td>0.187590</td>\n",
       "      <td>0.618422</td>\n",
       "      <td>2.463062e+05</td>\n",
       "      <td>0.681577</td>\n",
       "      <td>0.133286</td>\n",
       "      <td>5.342588</td>\n",
       "      <td>0.190844</td>\n",
       "      <td>-7.085624</td>\n",
       "      <td>0.612295</td>\n",
       "      <td>0.092664</td>\n",
       "      <td>121.603272</td>\n",
       "      <td>3.968270</td>\n",
       "      <td>0.496815</td>\n",
       "      <td>0.505702</td>\n",
       "    </tr>\n",
       "    <tr>\n",
       "      <th>std</th>\n",
       "      <td>582.402066</td>\n",
       "      <td>0.259989</td>\n",
       "      <td>0.161029</td>\n",
       "      <td>8.198181e+04</td>\n",
       "      <td>0.210273</td>\n",
       "      <td>0.273162</td>\n",
       "      <td>3.648240</td>\n",
       "      <td>0.155453</td>\n",
       "      <td>3.761684</td>\n",
       "      <td>0.487347</td>\n",
       "      <td>0.089931</td>\n",
       "      <td>26.685604</td>\n",
       "      <td>0.255853</td>\n",
       "      <td>0.247195</td>\n",
       "      <td>0.500091</td>\n",
       "    </tr>\n",
       "    <tr>\n",
       "      <th>min</th>\n",
       "      <td>0.000000</td>\n",
       "      <td>0.000003</td>\n",
       "      <td>0.122000</td>\n",
       "      <td>1.604200e+04</td>\n",
       "      <td>0.014800</td>\n",
       "      <td>0.000000</td>\n",
       "      <td>0.000000</td>\n",
       "      <td>0.018800</td>\n",
       "      <td>-33.097000</td>\n",
       "      <td>0.000000</td>\n",
       "      <td>0.023100</td>\n",
       "      <td>47.859000</td>\n",
       "      <td>1.000000</td>\n",
       "      <td>0.034800</td>\n",
       "      <td>0.000000</td>\n",
       "    </tr>\n",
       "    <tr>\n",
       "      <th>25%</th>\n",
       "      <td>504.000000</td>\n",
       "      <td>0.009630</td>\n",
       "      <td>0.514000</td>\n",
       "      <td>2.000150e+05</td>\n",
       "      <td>0.563000</td>\n",
       "      <td>0.000000</td>\n",
       "      <td>2.000000</td>\n",
       "      <td>0.092300</td>\n",
       "      <td>-8.394000</td>\n",
       "      <td>0.000000</td>\n",
       "      <td>0.037500</td>\n",
       "      <td>100.189000</td>\n",
       "      <td>4.000000</td>\n",
       "      <td>0.295000</td>\n",
       "      <td>0.000000</td>\n",
       "    </tr>\n",
       "    <tr>\n",
       "      <th>50%</th>\n",
       "      <td>1008.000000</td>\n",
       "      <td>0.063300</td>\n",
       "      <td>0.631000</td>\n",
       "      <td>2.292610e+05</td>\n",
       "      <td>0.715000</td>\n",
       "      <td>0.000076</td>\n",
       "      <td>6.000000</td>\n",
       "      <td>0.127000</td>\n",
       "      <td>-6.248000</td>\n",
       "      <td>1.000000</td>\n",
       "      <td>0.054900</td>\n",
       "      <td>121.427000</td>\n",
       "      <td>4.000000</td>\n",
       "      <td>0.492000</td>\n",
       "      <td>1.000000</td>\n",
       "    </tr>\n",
       "    <tr>\n",
       "      <th>75%</th>\n",
       "      <td>1512.000000</td>\n",
       "      <td>0.265000</td>\n",
       "      <td>0.738000</td>\n",
       "      <td>2.703330e+05</td>\n",
       "      <td>0.846000</td>\n",
       "      <td>0.054000</td>\n",
       "      <td>9.000000</td>\n",
       "      <td>0.247000</td>\n",
       "      <td>-4.746000</td>\n",
       "      <td>1.000000</td>\n",
       "      <td>0.108000</td>\n",
       "      <td>137.849000</td>\n",
       "      <td>4.000000</td>\n",
       "      <td>0.691000</td>\n",
       "      <td>1.000000</td>\n",
       "    </tr>\n",
       "    <tr>\n",
       "      <th>max</th>\n",
       "      <td>2016.000000</td>\n",
       "      <td>0.995000</td>\n",
       "      <td>0.984000</td>\n",
       "      <td>1.004627e+06</td>\n",
       "      <td>0.998000</td>\n",
       "      <td>0.976000</td>\n",
       "      <td>11.000000</td>\n",
       "      <td>0.969000</td>\n",
       "      <td>-0.307000</td>\n",
       "      <td>1.000000</td>\n",
       "      <td>0.816000</td>\n",
       "      <td>219.331000</td>\n",
       "      <td>5.000000</td>\n",
       "      <td>0.992000</td>\n",
       "      <td>1.000000</td>\n",
       "    </tr>\n",
       "  </tbody>\n",
       "</table>\n",
       "</div>"
      ],
      "text/plain": [
       "                id  acousticness  danceability   duration_ms       energy  \\\n",
       "count  2017.000000   2017.000000   2017.000000  2.017000e+03  2017.000000   \n",
       "mean   1008.000000      0.187590      0.618422  2.463062e+05     0.681577   \n",
       "std     582.402066      0.259989      0.161029  8.198181e+04     0.210273   \n",
       "min       0.000000      0.000003      0.122000  1.604200e+04     0.014800   \n",
       "25%     504.000000      0.009630      0.514000  2.000150e+05     0.563000   \n",
       "50%    1008.000000      0.063300      0.631000  2.292610e+05     0.715000   \n",
       "75%    1512.000000      0.265000      0.738000  2.703330e+05     0.846000   \n",
       "max    2016.000000      0.995000      0.984000  1.004627e+06     0.998000   \n",
       "\n",
       "       instrumentalness          key     liveness     loudness         mode  \\\n",
       "count       2017.000000  2017.000000  2017.000000  2017.000000  2017.000000   \n",
       "mean           0.133286     5.342588     0.190844    -7.085624     0.612295   \n",
       "std            0.273162     3.648240     0.155453     3.761684     0.487347   \n",
       "min            0.000000     0.000000     0.018800   -33.097000     0.000000   \n",
       "25%            0.000000     2.000000     0.092300    -8.394000     0.000000   \n",
       "50%            0.000076     6.000000     0.127000    -6.248000     1.000000   \n",
       "75%            0.054000     9.000000     0.247000    -4.746000     1.000000   \n",
       "max            0.976000    11.000000     0.969000    -0.307000     1.000000   \n",
       "\n",
       "       speechiness        tempo  time_signature      valence       target  \n",
       "count  2017.000000  2017.000000     2017.000000  2017.000000  2017.000000  \n",
       "mean      0.092664   121.603272        3.968270     0.496815     0.505702  \n",
       "std       0.089931    26.685604        0.255853     0.247195     0.500091  \n",
       "min       0.023100    47.859000        1.000000     0.034800     0.000000  \n",
       "25%       0.037500   100.189000        4.000000     0.295000     0.000000  \n",
       "50%       0.054900   121.427000        4.000000     0.492000     1.000000  \n",
       "75%       0.108000   137.849000        4.000000     0.691000     1.000000  \n",
       "max       0.816000   219.331000        5.000000     0.992000     1.000000  "
      ]
     },
     "execution_count": 5,
     "metadata": {},
     "output_type": "execute_result"
    }
   ],
   "source": [
    "df.describe()"
   ]
  },
  {
   "cell_type": "code",
   "execution_count": 6,
   "id": "8b80a282",
   "metadata": {},
   "outputs": [
    {
     "data": {
      "image/png": "[encoded data removed]",
      "text/plain": [
       "<Figure size 432x288 with 2 Axes>"
      ]
     },
     "metadata": {
      "needs_background": "light"
     },
     "output_type": "display_data"
    }
   ],
   "source": [
    "#podemos dizer que musicas acústicas não são muito daçáveis e o grafico mostra isso mas n há uma relação clara com o gosto do usuario \n",
    "df.plot(x = 'acousticness', y = 'danceability', c = 'target', kind = 'scatter', colormap = 'Accent_r');"
   ]
  },
  {
   "cell_type": "code",
   "execution_count": 7,
   "id": "6ba4c9e1",
   "metadata": {},
   "outputs": [
    {
     "data": {
      "image/png": "[encoded data removed]",
      "text/plain": [
       "<Figure size 432x288 with 2 Axes>"
      ]
     },
     "metadata": {
      "needs_background": "light"
     },
     "output_type": "display_data"
    }
   ],
   "source": [
    "#também não há uma relacção clara com o mpb e a positividade da musica\n",
    "df.plot(x = 'tempo', y = 'valence', c = 'target', kind = 'scatter', colormap = 'Accent_r');"
   ]
  },
  {
   "cell_type": "code",
   "execution_count": 8,
   "id": "d39c8ac5",
   "metadata": {},
   "outputs": [
    {
     "data": {
      "image/png": "[encoded data removed]",
      "text/plain": [
       "<Figure size 432x288 with 2 Axes>"
      ]
     },
     "metadata": {
      "needs_background": "light"
     },
     "output_type": "display_data"
    }
   ],
   "source": [
    "#atraves do grafico pode-se dizer que o usuario prefere musicas cantadas\n",
    "df.plot(x = 'tempo', y = 'speechiness', c = 'target', kind = 'scatter', colormap = 'Accent_r');"
   ]
  },
  {
   "cell_type": "code",
   "execution_count": 9,
   "id": "65aa4f1e",
   "metadata": {},
   "outputs": [
    {
     "data": {
      "image/png": "[encoded data removed]",
      "text/plain": [
       "<Figure size 432x288 with 2 Axes>"
      ]
     },
     "metadata": {
      "needs_background": "light"
     },
     "output_type": "display_data"
    }
   ],
   "source": [
    "#em geral o usuario prefere musicas mais energeticas\n",
    "df.plot(x = 'danceability', y = 'energy', c = 'target', kind = 'scatter', colormap = 'Accent_r');"
   ]
  },
  {
   "cell_type": "code",
   "execution_count": 10,
   "id": "dcade78a",
   "metadata": {},
   "outputs": [
    {
     "data": {
      "text/plain": [
       "Drake                 13\n",
       "Disclosure            12\n",
       "Crystal Castles        9\n",
       "FIDLAR                 9\n",
       "Kanye West             8\n",
       "                      ..\n",
       "Tuxedo                 1\n",
       "Roy Ayers Ubiquity     1\n",
       "Atlas Sound            1\n",
       "Hotel Eden             1\n",
       "AJ Tracey              1\n",
       "Name: artist, Length: 653, dtype: int64"
      ]
     },
     "execution_count": 10,
     "metadata": {},
     "output_type": "execute_result"
    }
   ],
   "source": [
    "#filtrando os artistas que o usuario mais gostou\n",
    "fav_artist = df.loc[df['target'] == 1]\n",
    "fav_artist = fav_artist['artist'].value_counts()\n",
    "fav_artist"
   ]
  },
  {
   "cell_type": "code",
   "execution_count": 11,
   "id": "a23de64a",
   "metadata": {},
   "outputs": [
    {
     "data": {
      "text/plain": [
       "Drake                     13\n",
       "Disclosure                12\n",
       "Crystal Castles            9\n",
       "FIDLAR                     9\n",
       "Kanye West                 8\n",
       "CHVRCHES                   7\n",
       "Young Thug                 7\n",
       "Hot Chip                   6\n",
       "M83                        6\n",
       "ASTR                       6\n",
       "Grimes                     6\n",
       "Future                     6\n",
       "Beach House                6\n",
       "Purity Ring                5\n",
       "The Partysquad             5\n",
       "Tame Impala                5\n",
       "A$AP Ferg                  5\n",
       "Teams vs. Star Slinger     5\n",
       "Duke Dumont                5\n",
       "ScHoolboy Q                5\n",
       "Name: artist, dtype: int64"
      ]
     },
     "execution_count": 11,
     "metadata": {},
     "output_type": "execute_result"
    }
   ],
   "source": [
    "#atraves de uma pesquisa pode-se dizer que os generos mais presentes nos gostos do usuario são rap e eletronico.\n",
    "fav_artist.head(20)"
   ]
  },
  {
   "cell_type": "code",
   "execution_count": 12,
   "id": "7ed225cd",
   "metadata": {},
   "outputs": [],
   "source": [
    "#separando a classe e removendo features desnecessárias\n",
    "classe = df['target']\n",
    "df.drop(['target', 'id', 'song_title'], axis = 1, inplace = True)"
   ]
  },
  {
   "cell_type": "code",
   "execution_count": 13,
   "id": "4ede65a8",
   "metadata": {},
   "outputs": [
    {
     "data": {
      "text/plain": [
       "<bound method NDFrame.head of 0       1\n",
       "1       1\n",
       "2       1\n",
       "3       1\n",
       "4       1\n",
       "       ..\n",
       "2012    0\n",
       "2013    0\n",
       "2014    0\n",
       "2015    0\n",
       "2016    0\n",
       "Name: target, Length: 2017, dtype: int64>"
      ]
     },
     "execution_count": 13,
     "metadata": {},
     "output_type": "execute_result"
    }
   ],
   "source": [
    "classe.head"
   ]
  },
  {
   "cell_type": "code",
   "execution_count": 14,
   "id": "9f4ba079",
   "metadata": {},
   "outputs": [
    {
     "data": {
      "text/html": [
       "<div>\n",
       "<style scoped>\n",
       "    .dataframe tbody tr th:only-of-type {\n",
       "        vertical-align: middle;\n",
       "    }\n",
       "\n",
       "    .dataframe tbody tr th {\n",
       "        vertical-align: top;\n",
       "    }\n",
       "\n",
       "    .dataframe thead th {\n",
       "        text-align: right;\n",
       "    }\n",
       "</style>\n",
       "<table border=\"1\" class=\"dataframe\">\n",
       "  <thead>\n",
       "    <tr style=\"text-align: right;\">\n",
       "      <th></th>\n",
       "      <th>acousticness</th>\n",
       "      <th>danceability</th>\n",
       "      <th>duration_ms</th>\n",
       "      <th>energy</th>\n",
       "      <th>instrumentalness</th>\n",
       "      <th>key</th>\n",
       "      <th>liveness</th>\n",
       "      <th>loudness</th>\n",
       "      <th>mode</th>\n",
       "      <th>speechiness</th>\n",
       "      <th>tempo</th>\n",
       "      <th>time_signature</th>\n",
       "      <th>valence</th>\n",
       "      <th>artist</th>\n",
       "    </tr>\n",
       "  </thead>\n",
       "  <tbody>\n",
       "    <tr>\n",
       "      <th>0</th>\n",
       "      <td>0.0102</td>\n",
       "      <td>0.833</td>\n",
       "      <td>204600</td>\n",
       "      <td>0.434</td>\n",
       "      <td>0.021900</td>\n",
       "      <td>2</td>\n",
       "      <td>0.1650</td>\n",
       "      <td>-8.795</td>\n",
       "      <td>1</td>\n",
       "      <td>0.4310</td>\n",
       "      <td>150.062</td>\n",
       "      <td>4.0</td>\n",
       "      <td>0.286</td>\n",
       "      <td>Future</td>\n",
       "    </tr>\n",
       "    <tr>\n",
       "      <th>1</th>\n",
       "      <td>0.1990</td>\n",
       "      <td>0.743</td>\n",
       "      <td>326933</td>\n",
       "      <td>0.359</td>\n",
       "      <td>0.006110</td>\n",
       "      <td>1</td>\n",
       "      <td>0.1370</td>\n",
       "      <td>-10.401</td>\n",
       "      <td>1</td>\n",
       "      <td>0.0794</td>\n",
       "      <td>160.083</td>\n",
       "      <td>4.0</td>\n",
       "      <td>0.588</td>\n",
       "      <td>Childish Gambino</td>\n",
       "    </tr>\n",
       "    <tr>\n",
       "      <th>2</th>\n",
       "      <td>0.0344</td>\n",
       "      <td>0.838</td>\n",
       "      <td>185707</td>\n",
       "      <td>0.412</td>\n",
       "      <td>0.000234</td>\n",
       "      <td>2</td>\n",
       "      <td>0.1590</td>\n",
       "      <td>-7.148</td>\n",
       "      <td>1</td>\n",
       "      <td>0.2890</td>\n",
       "      <td>75.044</td>\n",
       "      <td>4.0</td>\n",
       "      <td>0.173</td>\n",
       "      <td>Future</td>\n",
       "    </tr>\n",
       "    <tr>\n",
       "      <th>3</th>\n",
       "      <td>0.6040</td>\n",
       "      <td>0.494</td>\n",
       "      <td>199413</td>\n",
       "      <td>0.338</td>\n",
       "      <td>0.510000</td>\n",
       "      <td>5</td>\n",
       "      <td>0.0922</td>\n",
       "      <td>-15.236</td>\n",
       "      <td>1</td>\n",
       "      <td>0.0261</td>\n",
       "      <td>86.468</td>\n",
       "      <td>4.0</td>\n",
       "      <td>0.230</td>\n",
       "      <td>Beach House</td>\n",
       "    </tr>\n",
       "    <tr>\n",
       "      <th>4</th>\n",
       "      <td>0.1800</td>\n",
       "      <td>0.678</td>\n",
       "      <td>392893</td>\n",
       "      <td>0.561</td>\n",
       "      <td>0.512000</td>\n",
       "      <td>5</td>\n",
       "      <td>0.4390</td>\n",
       "      <td>-11.648</td>\n",
       "      <td>0</td>\n",
       "      <td>0.0694</td>\n",
       "      <td>174.004</td>\n",
       "      <td>4.0</td>\n",
       "      <td>0.904</td>\n",
       "      <td>Junior Boys</td>\n",
       "    </tr>\n",
       "  </tbody>\n",
       "</table>\n",
       "</div>"
      ],
      "text/plain": [
       "   acousticness  danceability  duration_ms  energy  instrumentalness  key  \\\n",
       "0        0.0102         0.833       204600   0.434          0.021900    2   \n",
       "1        0.1990         0.743       326933   0.359          0.006110    1   \n",
       "2        0.0344         0.838       185707   0.412          0.000234    2   \n",
       "3        0.6040         0.494       199413   0.338          0.510000    5   \n",
       "4        0.1800         0.678       392893   0.561          0.512000    5   \n",
       "\n",
       "   liveness  loudness  mode  speechiness    tempo  time_signature  valence  \\\n",
       "0    0.1650    -8.795     1       0.4310  150.062             4.0    0.286   \n",
       "1    0.1370   -10.401     1       0.0794  160.083             4.0    0.588   \n",
       "2    0.1590    -7.148     1       0.2890   75.044             4.0    0.173   \n",
       "3    0.0922   -15.236     1       0.0261   86.468             4.0    0.230   \n",
       "4    0.4390   -11.648     0       0.0694  174.004             4.0    0.904   \n",
       "\n",
       "             artist  \n",
       "0            Future  \n",
       "1  Childish Gambino  \n",
       "2            Future  \n",
       "3       Beach House  \n",
       "4       Junior Boys  "
      ]
     },
     "execution_count": 14,
     "metadata": {},
     "output_type": "execute_result"
    }
   ],
   "source": [
    "df.head()"
   ]
  },
  {
   "cell_type": "code",
   "execution_count": 15,
   "id": "244716ff",
   "metadata": {},
   "outputs": [],
   "source": [
    "from sklearn.pipeline import Pipeline\n",
    "from sklearn.preprocessing import StandardScaler\n",
    "from sklearn.preprocessing import MinMaxScaler\n",
    "from sklearn.preprocessing import LabelEncoder\n",
    "from sklearn.preprocessing import OneHotEncoder"
   ]
  },
  {
   "cell_type": "markdown",
   "id": "bd6da925",
   "metadata": {},
   "source": [
    "## separar a coluna artista com OneHotEncoder e com LabelEncoder para ver qual se sai melhor"
   ]
  },
  {
   "cell_type": "code",
   "execution_count": 16,
   "id": "1d704d98",
   "metadata": {},
   "outputs": [],
   "source": [
    "#usando labelEncoder nos dado\n",
    "enc = LabelEncoder()\n",
    "encoded = enc.fit_transform(df.artist)\n",
    "df['encoded'] = encoded\n",
    "df.drop('artist', axis = 1, inplace = True)"
   ]
  },
  {
   "cell_type": "code",
   "execution_count": 17,
   "id": "a2b71e18",
   "metadata": {},
   "outputs": [
    {
     "data": {
      "text/html": [
       "<div>\n",
       "<style scoped>\n",
       "    .dataframe tbody tr th:only-of-type {\n",
       "        vertical-align: middle;\n",
       "    }\n",
       "\n",
       "    .dataframe tbody tr th {\n",
       "        vertical-align: top;\n",
       "    }\n",
       "\n",
       "    .dataframe thead th {\n",
       "        text-align: right;\n",
       "    }\n",
       "</style>\n",
       "<table border=\"1\" class=\"dataframe\">\n",
       "  <thead>\n",
       "    <tr style=\"text-align: right;\">\n",
       "      <th></th>\n",
       "      <th>acousticness</th>\n",
       "      <th>danceability</th>\n",
       "      <th>duration_ms</th>\n",
       "      <th>energy</th>\n",
       "      <th>instrumentalness</th>\n",
       "      <th>key</th>\n",
       "      <th>liveness</th>\n",
       "      <th>loudness</th>\n",
       "      <th>mode</th>\n",
       "      <th>speechiness</th>\n",
       "      <th>tempo</th>\n",
       "      <th>time_signature</th>\n",
       "      <th>valence</th>\n",
       "      <th>encoded</th>\n",
       "    </tr>\n",
       "  </thead>\n",
       "  <tbody>\n",
       "    <tr>\n",
       "      <th>0</th>\n",
       "      <td>0.0102</td>\n",
       "      <td>0.833</td>\n",
       "      <td>204600</td>\n",
       "      <td>0.434</td>\n",
       "      <td>0.021900</td>\n",
       "      <td>2</td>\n",
       "      <td>0.1650</td>\n",
       "      <td>-8.795</td>\n",
       "      <td>1</td>\n",
       "      <td>0.4310</td>\n",
       "      <td>150.062</td>\n",
       "      <td>4.0</td>\n",
       "      <td>0.286</td>\n",
       "      <td>449</td>\n",
       "    </tr>\n",
       "    <tr>\n",
       "      <th>1</th>\n",
       "      <td>0.1990</td>\n",
       "      <td>0.743</td>\n",
       "      <td>326933</td>\n",
       "      <td>0.359</td>\n",
       "      <td>0.006110</td>\n",
       "      <td>1</td>\n",
       "      <td>0.1370</td>\n",
       "      <td>-10.401</td>\n",
       "      <td>1</td>\n",
       "      <td>0.0794</td>\n",
       "      <td>160.083</td>\n",
       "      <td>4.0</td>\n",
       "      <td>0.588</td>\n",
       "      <td>222</td>\n",
       "    </tr>\n",
       "    <tr>\n",
       "      <th>2</th>\n",
       "      <td>0.0344</td>\n",
       "      <td>0.838</td>\n",
       "      <td>185707</td>\n",
       "      <td>0.412</td>\n",
       "      <td>0.000234</td>\n",
       "      <td>2</td>\n",
       "      <td>0.1590</td>\n",
       "      <td>-7.148</td>\n",
       "      <td>1</td>\n",
       "      <td>0.2890</td>\n",
       "      <td>75.044</td>\n",
       "      <td>4.0</td>\n",
       "      <td>0.173</td>\n",
       "      <td>449</td>\n",
       "    </tr>\n",
       "    <tr>\n",
       "      <th>3</th>\n",
       "      <td>0.6040</td>\n",
       "      <td>0.494</td>\n",
       "      <td>199413</td>\n",
       "      <td>0.338</td>\n",
       "      <td>0.510000</td>\n",
       "      <td>5</td>\n",
       "      <td>0.0922</td>\n",
       "      <td>-15.236</td>\n",
       "      <td>1</td>\n",
       "      <td>0.0261</td>\n",
       "      <td>86.468</td>\n",
       "      <td>4.0</td>\n",
       "      <td>0.230</td>\n",
       "      <td>95</td>\n",
       "    </tr>\n",
       "    <tr>\n",
       "      <th>4</th>\n",
       "      <td>0.1800</td>\n",
       "      <td>0.678</td>\n",
       "      <td>392893</td>\n",
       "      <td>0.561</td>\n",
       "      <td>0.512000</td>\n",
       "      <td>5</td>\n",
       "      <td>0.4390</td>\n",
       "      <td>-11.648</td>\n",
       "      <td>0</td>\n",
       "      <td>0.0694</td>\n",
       "      <td>174.004</td>\n",
       "      <td>4.0</td>\n",
       "      <td>0.904</td>\n",
       "      <td>628</td>\n",
       "    </tr>\n",
       "  </tbody>\n",
       "</table>\n",
       "</div>"
      ],
      "text/plain": [
       "   acousticness  danceability  duration_ms  energy  instrumentalness  key  \\\n",
       "0        0.0102         0.833       204600   0.434          0.021900    2   \n",
       "1        0.1990         0.743       326933   0.359          0.006110    1   \n",
       "2        0.0344         0.838       185707   0.412          0.000234    2   \n",
       "3        0.6040         0.494       199413   0.338          0.510000    5   \n",
       "4        0.1800         0.678       392893   0.561          0.512000    5   \n",
       "\n",
       "   liveness  loudness  mode  speechiness    tempo  time_signature  valence  \\\n",
       "0    0.1650    -8.795     1       0.4310  150.062             4.0    0.286   \n",
       "1    0.1370   -10.401     1       0.0794  160.083             4.0    0.588   \n",
       "2    0.1590    -7.148     1       0.2890   75.044             4.0    0.173   \n",
       "3    0.0922   -15.236     1       0.0261   86.468             4.0    0.230   \n",
       "4    0.4390   -11.648     0       0.0694  174.004             4.0    0.904   \n",
       "\n",
       "   encoded  \n",
       "0      449  \n",
       "1      222  \n",
       "2      449  \n",
       "3       95  \n",
       "4      628  "
      ]
     },
     "execution_count": 17,
     "metadata": {},
     "output_type": "execute_result"
    }
   ],
   "source": [
    "df.head()"
   ]
  },
  {
   "cell_type": "code",
   "execution_count": 18,
   "id": "a2b10a2a",
   "metadata": {},
   "outputs": [],
   "source": [
    "#usando OneHotEncoder\n",
    "\n",
    "ohe = OneHotEncoder()\n",
    "df_array = df.values\n",
    "encoded = encoded.reshape(len(encoded),1)\n",
    "encoded = ohe.fit_transform(encoded)\n",
    "df_ohe = np.concatenate([df_array, encoded.toarray()], axis=1)\n",
    "df_ohe = pd.DataFrame(df_ohe)"
   ]
  },
  {
   "cell_type": "code",
   "execution_count": 21,
   "id": "6ff969de",
   "metadata": {},
   "outputs": [
    {
     "data": {
      "text/html": [
       "<div>\n",
       "<style scoped>\n",
       "    .dataframe tbody tr th:only-of-type {\n",
       "        vertical-align: middle;\n",
       "    }\n",
       "\n",
       "    .dataframe tbody tr th {\n",
       "        vertical-align: top;\n",
       "    }\n",
       "\n",
       "    .dataframe thead th {\n",
       "        text-align: right;\n",
       "    }\n",
       "</style>\n",
       "<table border=\"1\" class=\"dataframe\">\n",
       "  <thead>\n",
       "    <tr style=\"text-align: right;\">\n",
       "      <th></th>\n",
       "      <th>0</th>\n",
       "      <th>1</th>\n",
       "      <th>2</th>\n",
       "      <th>3</th>\n",
       "      <th>4</th>\n",
       "      <th>5</th>\n",
       "      <th>6</th>\n",
       "      <th>7</th>\n",
       "      <th>8</th>\n",
       "      <th>9</th>\n",
       "      <th>...</th>\n",
       "      <th>1347</th>\n",
       "      <th>1348</th>\n",
       "      <th>1349</th>\n",
       "      <th>1350</th>\n",
       "      <th>1351</th>\n",
       "      <th>1352</th>\n",
       "      <th>1353</th>\n",
       "      <th>1354</th>\n",
       "      <th>1355</th>\n",
       "      <th>1356</th>\n",
       "    </tr>\n",
       "  </thead>\n",
       "  <tbody>\n",
       "    <tr>\n",
       "      <th>0</th>\n",
       "      <td>0.0102</td>\n",
       "      <td>0.833</td>\n",
       "      <td>204600.0</td>\n",
       "      <td>0.434</td>\n",
       "      <td>0.021900</td>\n",
       "      <td>2.0</td>\n",
       "      <td>0.1650</td>\n",
       "      <td>-8.795</td>\n",
       "      <td>1.0</td>\n",
       "      <td>0.4310</td>\n",
       "      <td>...</td>\n",
       "      <td>0.0</td>\n",
       "      <td>0.0</td>\n",
       "      <td>0.0</td>\n",
       "      <td>0.0</td>\n",
       "      <td>0.0</td>\n",
       "      <td>0.0</td>\n",
       "      <td>0.0</td>\n",
       "      <td>0.0</td>\n",
       "      <td>0.0</td>\n",
       "      <td>0.0</td>\n",
       "    </tr>\n",
       "    <tr>\n",
       "      <th>1</th>\n",
       "      <td>0.1990</td>\n",
       "      <td>0.743</td>\n",
       "      <td>326933.0</td>\n",
       "      <td>0.359</td>\n",
       "      <td>0.006110</td>\n",
       "      <td>1.0</td>\n",
       "      <td>0.1370</td>\n",
       "      <td>-10.401</td>\n",
       "      <td>1.0</td>\n",
       "      <td>0.0794</td>\n",
       "      <td>...</td>\n",
       "      <td>0.0</td>\n",
       "      <td>0.0</td>\n",
       "      <td>0.0</td>\n",
       "      <td>0.0</td>\n",
       "      <td>0.0</td>\n",
       "      <td>0.0</td>\n",
       "      <td>0.0</td>\n",
       "      <td>0.0</td>\n",
       "      <td>0.0</td>\n",
       "      <td>0.0</td>\n",
       "    </tr>\n",
       "    <tr>\n",
       "      <th>2</th>\n",
       "      <td>0.0344</td>\n",
       "      <td>0.838</td>\n",
       "      <td>185707.0</td>\n",
       "      <td>0.412</td>\n",
       "      <td>0.000234</td>\n",
       "      <td>2.0</td>\n",
       "      <td>0.1590</td>\n",
       "      <td>-7.148</td>\n",
       "      <td>1.0</td>\n",
       "      <td>0.2890</td>\n",
       "      <td>...</td>\n",
       "      <td>0.0</td>\n",
       "      <td>0.0</td>\n",
       "      <td>0.0</td>\n",
       "      <td>0.0</td>\n",
       "      <td>0.0</td>\n",
       "      <td>0.0</td>\n",
       "      <td>0.0</td>\n",
       "      <td>0.0</td>\n",
       "      <td>0.0</td>\n",
       "      <td>0.0</td>\n",
       "    </tr>\n",
       "    <tr>\n",
       "      <th>3</th>\n",
       "      <td>0.6040</td>\n",
       "      <td>0.494</td>\n",
       "      <td>199413.0</td>\n",
       "      <td>0.338</td>\n",
       "      <td>0.510000</td>\n",
       "      <td>5.0</td>\n",
       "      <td>0.0922</td>\n",
       "      <td>-15.236</td>\n",
       "      <td>1.0</td>\n",
       "      <td>0.0261</td>\n",
       "      <td>...</td>\n",
       "      <td>0.0</td>\n",
       "      <td>0.0</td>\n",
       "      <td>0.0</td>\n",
       "      <td>0.0</td>\n",
       "      <td>0.0</td>\n",
       "      <td>0.0</td>\n",
       "      <td>0.0</td>\n",
       "      <td>0.0</td>\n",
       "      <td>0.0</td>\n",
       "      <td>0.0</td>\n",
       "    </tr>\n",
       "    <tr>\n",
       "      <th>4</th>\n",
       "      <td>0.1800</td>\n",
       "      <td>0.678</td>\n",
       "      <td>392893.0</td>\n",
       "      <td>0.561</td>\n",
       "      <td>0.512000</td>\n",
       "      <td>5.0</td>\n",
       "      <td>0.4390</td>\n",
       "      <td>-11.648</td>\n",
       "      <td>0.0</td>\n",
       "      <td>0.0694</td>\n",
       "      <td>...</td>\n",
       "      <td>0.0</td>\n",
       "      <td>0.0</td>\n",
       "      <td>0.0</td>\n",
       "      <td>0.0</td>\n",
       "      <td>0.0</td>\n",
       "      <td>0.0</td>\n",
       "      <td>0.0</td>\n",
       "      <td>0.0</td>\n",
       "      <td>0.0</td>\n",
       "      <td>0.0</td>\n",
       "    </tr>\n",
       "  </tbody>\n",
       "</table>\n",
       "<p>5 rows × 1357 columns</p>\n",
       "</div>"
      ],
      "text/plain": [
       "     0      1         2      3         4     5       6       7     8     \\\n",
       "0  0.0102  0.833  204600.0  0.434  0.021900   2.0  0.1650  -8.795   1.0   \n",
       "1  0.1990  0.743  326933.0  0.359  0.006110   1.0  0.1370 -10.401   1.0   \n",
       "2  0.0344  0.838  185707.0  0.412  0.000234   2.0  0.1590  -7.148   1.0   \n",
       "3  0.6040  0.494  199413.0  0.338  0.510000   5.0  0.0922 -15.236   1.0   \n",
       "4  0.1800  0.678  392893.0  0.561  0.512000   5.0  0.4390 -11.648   0.0   \n",
       "\n",
       "     9     ...  1347  1348  1349  1350  1351  1352  1353  1354  1355  1356  \n",
       "0  0.4310  ...   0.0   0.0   0.0   0.0   0.0   0.0   0.0   0.0   0.0   0.0  \n",
       "1  0.0794  ...   0.0   0.0   0.0   0.0   0.0   0.0   0.0   0.0   0.0   0.0  \n",
       "2  0.2890  ...   0.0   0.0   0.0   0.0   0.0   0.0   0.0   0.0   0.0   0.0  \n",
       "3  0.0261  ...   0.0   0.0   0.0   0.0   0.0   0.0   0.0   0.0   0.0   0.0  \n",
       "4  0.0694  ...   0.0   0.0   0.0   0.0   0.0   0.0   0.0   0.0   0.0   0.0  \n",
       "\n",
       "[5 rows x 1357 columns]"
      ]
     },
     "execution_count": 21,
     "metadata": {},
     "output_type": "execute_result"
    }
   ],
   "source": [
    "df_ohe.head()"
   ]
  },
  {
   "cell_type": "code",
   "execution_count": 23,
   "id": "6d238d22",
   "metadata": {},
   "outputs": [],
   "source": [
    "from sklearn import svm\n",
    "from sklearn.model_selection import cross_val_predict\n",
    "from sklearn import metrics"
   ]
  },
  {
   "cell_type": "code",
   "execution_count": 24,
   "id": "95d54848",
   "metadata": {},
   "outputs": [],
   "source": [
    "#função que faz uma validação cruzada e retorna a acurácia\n",
    "def acc(clf, x, y):\n",
    "    score = cross_val_predict(clf, x, y, cv = 10)\n",
    "    return metrics.accuracy_score(y, score)"
   ]
  },
  {
   "cell_type": "code",
   "execution_count": 27,
   "id": "7e60d528",
   "metadata": {},
   "outputs": [
    {
     "data": {
      "text/plain": [
       "SVC()"
      ]
     },
     "execution_count": 27,
     "metadata": {},
     "output_type": "execute_result"
    }
   ],
   "source": [
    "#treinando o modelo\n",
    "clf = svm.SVC().fit(df, classe)\n",
    "clf"
   ]
  },
  {
   "cell_type": "code",
   "execution_count": 26,
   "id": "6c8ac808",
   "metadata": {},
   "outputs": [
    {
     "data": {
      "text/plain": [
       "0.5582548339117501"
      ]
     },
     "execution_count": 26,
     "metadata": {},
     "output_type": "execute_result"
    }
   ],
   "source": [
    "#acuracia com label encoder\n",
    "acc(clf, df, classe)"
   ]
  },
  {
   "cell_type": "code",
   "execution_count": 29,
   "id": "43581379",
   "metadata": {},
   "outputs": [
    {
     "data": {
      "text/plain": [
       "0.5577590480912246"
      ]
     },
     "execution_count": 29,
     "metadata": {},
     "output_type": "execute_result"
    }
   ],
   "source": [
    "#acuracia com OneHotEncoder\n",
    "acc(clf, df_ohe, classe)"
   ]
  },
  {
   "cell_type": "markdown",
   "id": "5384487e",
   "metadata": {},
   "source": [
    "###  sera usado os dados com labelEncoder pois foram um pouco melhor e demanda menos esforço computacional"
   ]
  },
  {
   "cell_type": "code",
   "execution_count": 32,
   "id": "b4ae3e41",
   "metadata": {},
   "outputs": [],
   "source": [
    "#criando pipelines para automatizar testes\n",
    "pip_1 = Pipeline([\n",
    "    ('scaler',StandardScaler()),\n",
    "    ('clf', svm.SVC())\n",
    "])\n",
    "\n",
    "pip_2 = Pipeline([\n",
    "    ('scaler',MinMaxScaler()),\n",
    "    ('clf', svm.SVC())\n",
    "])"
   ]
  },
  {
   "cell_type": "code",
   "execution_count": 33,
   "id": "dcd99082",
   "metadata": {},
   "outputs": [
    {
     "data": {
      "text/plain": [
       "0.7149231531978185"
      ]
     },
     "execution_count": 33,
     "metadata": {},
     "output_type": "execute_result"
    }
   ],
   "source": [
    "#testando o modelo com standardscaler\n",
    "acc(pip_1, df, classe)"
   ]
  },
  {
   "cell_type": "code",
   "execution_count": 34,
   "id": "bd99d375",
   "metadata": {},
   "outputs": [
    {
     "data": {
      "text/plain": [
       "0.6757560733763014"
      ]
     },
     "execution_count": 34,
     "metadata": {},
     "output_type": "execute_result"
    }
   ],
   "source": [
    "#testando o modelo com minmaxscaler\n",
    "acc(pip_2, df, classe)"
   ]
  },
  {
   "cell_type": "code",
   "execution_count": 37,
   "id": "eac4812c",
   "metadata": {},
   "outputs": [],
   "source": [
    "#testando outros kernels do svm\n",
    "pip_3 = Pipeline([\n",
    "    ('scaler',StandardScaler()),\n",
    "    ('clf', svm.SVC(kernel='poly'))\n",
    "])    \n",
    "    \n",
    "pip_4 = Pipeline([\n",
    "    ('scaler',StandardScaler()),\n",
    "    ('clf', svm.SVC(kernel='linear'))\n",
    "])    "
   ]
  },
  {
   "cell_type": "code",
   "execution_count": 36,
   "id": "4932e585",
   "metadata": {},
   "outputs": [
    {
     "data": {
      "text/plain": [
       "0.6683192860684184"
      ]
     },
     "execution_count": 36,
     "metadata": {},
     "output_type": "execute_result"
    }
   ],
   "source": [
    "#resultado com kernel poly\n",
    "acc(pip_3, df, classe)"
   ]
  },
  {
   "cell_type": "code",
   "execution_count": 38,
   "id": "11ad1ebd",
   "metadata": {},
   "outputs": [
    {
     "data": {
      "text/plain": [
       "0.6236985622211205"
      ]
     },
     "execution_count": 38,
     "metadata": {},
     "output_type": "execute_result"
    }
   ],
   "source": [
    "#resultado com kernel linear\n",
    "acc(pip_4, df, classe)"
   ]
  },
  {
   "cell_type": "markdown",
   "id": "a53e9cd7",
   "metadata": {},
   "source": [
    "# testando o overfitting dos dados"
   ]
  },
  {
   "cell_type": "code",
   "execution_count": 39,
   "id": "c77efc30",
   "metadata": {},
   "outputs": [],
   "source": [
    "from sklearn.model_selection import train_test_split"
   ]
  },
  {
   "cell_type": "code",
   "execution_count": 53,
   "id": "c30e7308",
   "metadata": {},
   "outputs": [],
   "source": [
    "#separando entre dados de treino e teste\n",
    "x_train, x_test, y_train, y_test = train_test_split(df, classe, test_size = 0.2, random_state = 0)"
   ]
  },
  {
   "cell_type": "code",
   "execution_count": 54,
   "id": "d3e064b3",
   "metadata": {},
   "outputs": [],
   "source": [
    "\n",
    "scaler = StandardScaler().fit(x_train)\n",
    "x_train = scaler.transform(x_train)\n",
    "\n",
    "scaler2 = StandardScaler().fit(x_test)\n",
    "x_test = scaler2.transform(x_test)"
   ]
  },
  {
   "cell_type": "code",
   "execution_count": 55,
   "id": "9b24e76c",
   "metadata": {},
   "outputs": [
    {
     "data": {
      "text/plain": [
       "SVC()"
      ]
     },
     "execution_count": 55,
     "metadata": {},
     "output_type": "execute_result"
    }
   ],
   "source": [
    "#treinando o modelo\n",
    "clf.fit(x_train, y_train)"
   ]
  },
  {
   "cell_type": "code",
   "execution_count": 56,
   "id": "b9239223",
   "metadata": {},
   "outputs": [],
   "source": [
    "#aplicando o modelo nos dados de test\n",
    "pred = clf.predict(x_test)"
   ]
  },
  {
   "cell_type": "code",
   "execution_count": 57,
   "id": "3f589ccc",
   "metadata": {},
   "outputs": [
    {
     "data": {
      "text/plain": [
       "0.7376237623762376"
      ]
     },
     "execution_count": 57,
     "metadata": {},
     "output_type": "execute_result"
    }
   ],
   "source": [
    "#medindo acuracia do modelo\n",
    "metrics.accuracy_score(y_test, pred)"
   ]
  },
  {
   "cell_type": "code",
   "execution_count": 58,
   "id": "88fdf485",
   "metadata": {},
   "outputs": [
    {
     "data": {
      "text/plain": [
       "0.8115313081215128"
      ]
     },
     "execution_count": 58,
     "metadata": {},
     "output_type": "execute_result"
    }
   ],
   "source": [
    "#testando a classificação com os proprios dados\n",
    "y_pred = clf.predict(x_train)\n",
    "metrics.accuracy_score(y_train, y_pred)"
   ]
  },
  {
   "cell_type": "markdown",
   "id": "1708849e",
   "metadata": {},
   "source": [
    "# fazendo tunning nos dados"
   ]
  },
  {
   "cell_type": "code",
   "execution_count": 59,
   "id": "9ac300cb",
   "metadata": {},
   "outputs": [],
   "source": [
    "from sklearn.model_selection import GridSearchCV"
   ]
  },
  {
   "cell_type": "code",
   "execution_count": 61,
   "id": "76127e35",
   "metadata": {},
   "outputs": [],
   "source": [
    "# Lista de Valores de C\n",
    "list_c = [0.001, 0.01, 0.1, 1, 10, 100]\n",
    "\n",
    "# Lista de Valores de gamma\n",
    "list_gamma = [0.001, 0.01, 0.1, 1, 10, 100]"
   ]
  },
  {
   "cell_type": "code",
   "execution_count": 70,
   "id": "d2f7acc0",
   "metadata": {},
   "outputs": [],
   "source": [
    "#parametros para o grid\n",
    "grid_params = dict(clf__C = list_c, clf__gamma = list_gamma)"
   ]
  },
  {
   "cell_type": "code",
   "execution_count": 71,
   "id": "d256bade",
   "metadata": {},
   "outputs": [
    {
     "data": {
      "text/plain": [
       "{'clf__C': [0.001, 0.01, 0.1, 1, 10, 100],\n",
       " 'clf__gamma': [0.001, 0.01, 0.1, 1, 10, 100]}"
      ]
     },
     "execution_count": 71,
     "metadata": {},
     "output_type": "execute_result"
    }
   ],
   "source": [
    "grid_params"
   ]
  },
  {
   "cell_type": "code",
   "execution_count": 72,
   "id": "91b57213",
   "metadata": {},
   "outputs": [],
   "source": [
    "grid = GridSearchCV(pip_1, grid_params, cv = 10, scoring = 'accuracy')"
   ]
  },
  {
   "cell_type": "code",
   "execution_count": 73,
   "id": "3115bf93",
   "metadata": {},
   "outputs": [
    {
     "data": {
      "text/plain": [
       "GridSearchCV(cv=10,\n",
       "             estimator=Pipeline(steps=[('scaler', StandardScaler()),\n",
       "                                       ('clf', SVC())]),\n",
       "             param_grid={'clf__C': [0.001, 0.01, 0.1, 1, 10, 100],\n",
       "                         'clf__gamma': [0.001, 0.01, 0.1, 1, 10, 100]},\n",
       "             scoring='accuracy')"
      ]
     },
     "execution_count": 73,
     "metadata": {},
     "output_type": "execute_result"
    }
   ],
   "source": [
    "#aplicando gridSearch\n",
    "grid.fit(df, classe)"
   ]
  },
  {
   "cell_type": "code",
   "execution_count": 75,
   "id": "2538a02d",
   "metadata": {},
   "outputs": [
    {
     "data": {
      "text/plain": [
       "{'clf__C': 100, 'clf__gamma': 0.01}"
      ]
     },
     "execution_count": 75,
     "metadata": {},
     "output_type": "execute_result"
    }
   ],
   "source": [
    "# melhores parametros para nosso modelo\n",
    "grid.best_params_"
   ]
  },
  {
   "cell_type": "code",
   "execution_count": 78,
   "id": "d0d8677d",
   "metadata": {},
   "outputs": [
    {
     "data": {
      "text/plain": [
       "0.720858578395153"
      ]
     },
     "execution_count": 78,
     "metadata": {},
     "output_type": "execute_result"
    }
   ],
   "source": [
    "# melhor resultado \n",
    "grid.best_score_"
   ]
  },
  {
   "cell_type": "code",
   "execution_count": null,
   "id": "26da521e",
   "metadata": {},
   "outputs": [],
   "source": []
  }
 ],
 "metadata": {
  "kernelspec": {
   "display_name": "Python 3 (ipykernel)",
   "language": "python",
   "name": "python3"
  },
  "language_info": {
   "codemirror_mode": {
    "name": "ipython",
    "version": 3
   },
   "file_extension": ".py",
   "mimetype": "text/x-python",
   "name": "python",
   "nbconvert_exporter": "python",
   "pygments_lexer": "ipython3",
   "version": "3.9.12"
  }
 },
 "nbformat": 4,
 "nbformat_minor": 5
}
